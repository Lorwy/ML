{
 "cells": [
  {
   "cell_type": "markdown",
   "metadata": {
    "slideshow": {
     "slide_type": "slide"
    }
   },
   "source": [
    "# Bias V.S. Variance\n",
    "- 比较简单的model：**Underfitting，Larger Bias ,Samll Variance**\n",
    "\n",
    "- 比较复杂的model：**Overfitting , Small Bias, Larger Variance**\n",
    "\n",
    "# What to do with large bias?\n",
    "- Diagnosis(诊断):\n",
    "   - if your model connot even fit the training examples, then you have large bias. **(Underfitting)**\n",
    "\n",
    "     模型不能拟合训练集，此时欠拟合，属于高bias\n",
    "     \n",
    "   - if your can fit the training data, but large error on testing data, then you probably have large variance  **(Overfitting)**\n",
    "     \n",
    "     模型可以拟合训练集，但是在测试集上具有较大的错误，此时属于过拟合，属于高variance\n",
    "     \n",
    "     \n",
    "- For bias, redesign your model(重新设计模型)\n",
    "\n",
    "   - Add more features as input（重写model式子，把更多的feature加进去）\n",
    "   \n",
    "   - A more complex model(用复杂一点的多项式，2次，3次...)\n",
    "    \n",
    "    ps：此时收集更多的data是没有帮助的\n",
    "    \n",
    "# What to do with large variance?\n",
    "\n",
    "- More data\n",
    "\n",
    "Vary effective, but not always practical\n",
    "\n",
    "没办法车coloction data，可以以现有的data来人工制造各种新的data\n",
    "\n",
    "- Regularization\n",
    "\n",
    "只包含比较平滑的曲线，但是权重过重可能就会伤害到bias。所以找到一个平衡的值最重要\n",
    "\n",
    "\n",
    "# Model Selection\n",
    "\n",
    "- There is usually a trade-of between bias and variance.\n",
    "\n",
    "- Select a model that balances two kinds of error to minimize total error.\n",
    "\n",
    "- 用Cross Validation set来选择model：\n",
    "        \n",
    ">可以将Training set分成n份，选择一份作为Validation set，其余的为training set，如此重复的计算出每个model的err，然后取平均值来进行选择\n",
    "\n",
    "\n",
    "\n"
   ]
  }
 ],
 "metadata": {
  "kernelspec": {
   "display_name": "Python 3",
   "language": "python",
   "name": "python3"
  },
  "language_info": {
   "codemirror_mode": {
    "name": "ipython",
    "version": 3
   },
   "file_extension": ".py",
   "mimetype": "text/x-python",
   "name": "python",
   "nbconvert_exporter": "python",
   "pygments_lexer": "ipython3",
   "version": "3.6.5"
  }
 },
 "nbformat": 4,
 "nbformat_minor": 2
}
