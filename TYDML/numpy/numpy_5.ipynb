{
 "cells": [
  {
   "cell_type": "markdown",
   "metadata": {},
   "source": [
    "# 排序和索引"
   ]
  },
  {
   "cell_type": "code",
   "execution_count": 14,
   "metadata": {},
   "outputs": [
    {
     "name": "stdout",
     "output_type": "stream",
     "text": [
      "[[ 0.          0.84147098  0.90929743  0.14112001]\n",
      " [-0.7568025  -0.95892427 -0.2794155   0.6569866 ]\n",
      " [ 0.98935825  0.41211849 -0.54402111 -0.99999021]\n",
      " [-0.53657292  0.42016704  0.99060736  0.65028784]\n",
      " [-0.28790332 -0.96139749 -0.75098725  0.14987721]]\n",
      "[2 0 3 1]\n",
      "range(0, 4)\n",
      "[0.98935825 0.84147098 0.99060736 0.6569866 ]\n"
     ]
    }
   ],
   "source": [
    "import numpy as np\n",
    "data = np.sin(np.arange(20)).reshape(5,4)\n",
    "print(data)\n",
    "# axis=0按列找最大值\n",
    "index = data.argmax(axis=0)\n",
    "print(index)\n",
    "print(range(data.shape[1]))\n",
    "data_max = data[index,range(data.shape[1])]\n",
    "print(data_max)"
   ]
  },
  {
   "cell_type": "markdown",
   "metadata": {},
   "source": [
    "# 扩展"
   ]
  },
  {
   "cell_type": "code",
   "execution_count": 21,
   "metadata": {},
   "outputs": [
    {
     "name": "stdout",
     "output_type": "stream",
     "text": [
      "[ 0 10 20 30]\n",
      "[[ 0 10 20 30  0 10 20 30  0 10 20 30]\n",
      " [ 0 10 20 30  0 10 20 30  0 10 20 30]\n",
      " [ 0 10 20 30  0 10 20 30  0 10 20 30]\n",
      " [ 0 10 20 30  0 10 20 30  0 10 20 30]]\n",
      "(4, 12)\n"
     ]
    }
   ],
   "source": [
    "a = np.arange(0, 40, 10)\n",
    "print(a)\n",
    "# 扩展为几倍\n",
    "b = np.tile(a, (4, 3))\n",
    "print(b)\n",
    "b.ndim\n",
    "print(b.shape)"
   ]
  },
  {
   "cell_type": "markdown",
   "metadata": {},
   "source": [
    "# 排序\n",
    "默认从小到大排序"
   ]
  },
  {
   "cell_type": "code",
   "execution_count": 28,
   "metadata": {},
   "outputs": [
    {
     "name": "stdout",
     "output_type": "stream",
     "text": [
      "[[41 31 51]\n",
      " [11 21 11]]\n",
      "--------\n",
      "[[11 21 11]\n",
      " [41 31 51]]\n",
      "--------\n",
      "[[31 41 51]\n",
      " [11 11 21]]\n",
      "--------\n",
      "[2 3 1 0]\n",
      "--------\n",
      "[10 20 30 40]\n"
     ]
    }
   ],
   "source": [
    "a = np.array([[41,31,51],[11,21,11]])\n",
    "print(a)\n",
    "print('--------')\n",
    "b = np.sort(a, axis=0)\n",
    "print(b)\n",
    "\n",
    "print('--------')\n",
    "a.sort(axis=1)\n",
    "print(a)\n",
    "\n",
    "a = np.array([40, 30 ,10 ,20])\n",
    "# 从小到大排序的索引\n",
    "j = np.argsort(a)\n",
    "print('--------')\n",
    "print(j)\n",
    "print('--------')\n",
    "print(a[j])"
   ]
  },
  {
   "cell_type": "code",
   "execution_count": null,
   "metadata": {},
   "outputs": [],
   "source": []
  }
 ],
 "metadata": {
  "kernelspec": {
   "display_name": "Python 3",
   "language": "python",
   "name": "python3"
  },
  "language_info": {
   "codemirror_mode": {
    "name": "ipython",
    "version": 3
   },
   "file_extension": ".py",
   "mimetype": "text/x-python",
   "name": "python",
   "nbconvert_exporter": "python",
   "pygments_lexer": "ipython3",
   "version": "3.6.5"
  }
 },
 "nbformat": 4,
 "nbformat_minor": 2
}
