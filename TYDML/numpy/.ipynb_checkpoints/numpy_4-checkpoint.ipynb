{
 "cells": [
  {
   "cell_type": "code",
   "execution_count": 1,
   "metadata": {},
   "outputs": [
    {
     "name": "stdout",
     "output_type": "stream",
     "text": [
      "[0 1 2]\n",
      "[1.         2.71828183 7.3890561 ]\n",
      "[0.         1.         1.41421356]\n"
     ]
    }
   ],
   "source": [
    "import numpy as np\n",
    "B = np.arange(3)\n",
    "print(B)\n",
    "print(np.exp(B))\n",
    "print(np.sqrt(B))"
   ]
  },
  {
   "cell_type": "code",
   "execution_count": 14,
   "metadata": {},
   "outputs": [
    {
     "name": "stdout",
     "output_type": "stream",
     "text": [
      "[[5. 9. 6. 4.]\n",
      " [4. 8. 0. 6.]\n",
      " [4. 2. 1. 0.]]\n",
      "--------------\n",
      "(3, 4)\n",
      "[5. 9. 6. 4. 4. 8. 0. 6. 4. 2. 1. 0.]\n",
      "--------------\n",
      "[[5. 9.]\n",
      " [6. 4.]\n",
      " [4. 8.]\n",
      " [0. 6.]\n",
      " [4. 2.]\n",
      " [1. 0.]]\n",
      "--------------\n",
      "[[5. 6. 4. 0. 4. 1.]\n",
      " [9. 4. 8. 6. 2. 0.]]\n"
     ]
    }
   ],
   "source": [
    "# floor向下取整\n",
    "a = np.floor(10*np.random.random((3,4)))\n",
    "print(a)\n",
    "print('--------------')\n",
    "print(a.shape)\n",
    "\n",
    "# 将矩阵转换为行向量\n",
    "print(a.ravel())\n",
    "print('--------------')\n",
    "\n",
    "# 将行向量转换为6x2的矩阵\n",
    "# reshape中-1表示自动计算，因为确定了行就能确定列\n",
    "# 等价于 a.shape = (6,2)\n",
    "a = a.reshape(6,-1)\n",
    "print(a)\n",
    "\n",
    "print('--------------')\n",
    "\n",
    "# 矩阵A的转置\n",
    "print(a. T)"
   ]
  },
  {
   "cell_type": "markdown",
   "metadata": {},
   "source": [
    "# 矩阵的拼接\n",
    "- np.hstack((a,b)) 横着拼接h\n",
    "\n",
    "- np.vstack((a,b)) 竖着拼接v"
   ]
  },
  {
   "cell_type": "code",
   "execution_count": 17,
   "metadata": {},
   "outputs": [
    {
     "name": "stdout",
     "output_type": "stream",
     "text": [
      "[[6. 4.]\n",
      " [5. 3.]]\n",
      "---\n",
      "[[7. 4.]\n",
      " [3. 0.]]\n",
      "---\n",
      "[[6. 4. 7. 4.]\n",
      " [5. 3. 3. 0.]]\n",
      "[[6. 4.]\n",
      " [5. 3.]\n",
      " [7. 4.]\n",
      " [3. 0.]]\n"
     ]
    }
   ],
   "source": [
    "import numpy as up\n",
    "a = np.floor(10*np.random.random((2,2)))\n",
    "b = np.floor(10*np.random.random((2,2)))\n",
    "print(a)\n",
    "print('---')\n",
    "print(b)\n",
    "print('---')\n",
    "print(np.hstack((a,b)))\n",
    "print(np.vstack((a,b)))\n"
   ]
  },
  {
   "cell_type": "markdown",
   "metadata": {},
   "source": [
    "# 矩阵的切分\n",
    "- np.hsplit(a,3) 横着切分切分\n",
    "- np.vsplit(a,3) 竖着平均切分\n",
    "- np.hsplit(a,(3,4)) 传个元祖进去在第3和第4的位置切一刀"
   ]
  },
  {
   "cell_type": "code",
   "execution_count": 25,
   "metadata": {},
   "outputs": [
    {
     "name": "stdout",
     "output_type": "stream",
     "text": [
      "[[0. 5. 3. 6. 1. 9. 3. 1. 1. 7. 1. 5.]\n",
      " [7. 3. 6. 0. 2. 4. 0. 5. 8. 3. 5. 8.]]\n",
      "---\n",
      "[array([[0., 5., 3., 6.],\n",
      "       [7., 3., 6., 0.]]), array([[1., 9., 3., 1.],\n",
      "       [2., 4., 0., 5.]]), array([[1., 7., 1., 5.],\n",
      "       [8., 3., 5., 8.]])]\n",
      "---\n",
      "[array([[0., 5., 3.],\n",
      "       [7., 3., 6.]]), array([[6.],\n",
      "       [0.]]), array([[1., 9., 3., 1., 1.],\n",
      "       [2., 4., 0., 5., 8.]]), array([[7., 1., 5.],\n",
      "       [3., 5., 8.]])]\n",
      "---\n",
      "[[0. 7.]\n",
      " [5. 3.]\n",
      " [3. 6.]\n",
      " [6. 0.]\n",
      " [1. 2.]\n",
      " [9. 4.]\n",
      " [3. 0.]\n",
      " [1. 5.]\n",
      " [1. 8.]\n",
      " [7. 3.]\n",
      " [1. 5.]\n",
      " [5. 8.]]\n",
      "[array([[0., 7.],\n",
      "       [5., 3.],\n",
      "       [3., 6.],\n",
      "       [6., 0.]]), array([[1., 2.],\n",
      "       [9., 4.],\n",
      "       [3., 0.],\n",
      "       [1., 5.]]), array([[1., 8.],\n",
      "       [7., 3.],\n",
      "       [1., 5.],\n",
      "       [5., 8.]])]\n"
     ]
    }
   ],
   "source": [
    "a = np.floor(10*np.random.random((2,12)))\n",
    "print(a)\n",
    "print('---')\n",
    "print(np.hsplit(a,3)) # 横着平均切分\n",
    "print('---')\n",
    "print(np.hsplit(a,(3,4,9))) # 在位置3和4那里切一刀\n",
    "a = a. T\n",
    "print('---')\n",
    "print(a)\n",
    "print(np.vsplit(a,3)) # 竖着平均切3份"
   ]
  },
  {
   "cell_type": "markdown",
   "metadata": {},
   "source": [
    "# 复制"
   ]
  },
  {
   "cell_type": "code",
   "execution_count": 29,
   "metadata": {},
   "outputs": [
    {
     "name": "stdout",
     "output_type": "stream",
     "text": [
      "True\n",
      "(3, 4)\n",
      "4432582176\n",
      "4432582176\n"
     ]
    }
   ],
   "source": [
    "a = np.arange(12)\n",
    "b = a\n",
    "print(b is a)\n",
    "b.shape = (3,4)\n",
    "print(a.shape)\n",
    "print(id(a))\n",
    "print(id(b))"
   ]
  },
  {
   "cell_type": "code",
   "execution_count": 31,
   "metadata": {},
   "outputs": [
    {
     "name": "stdout",
     "output_type": "stream",
     "text": [
      "False\n",
      "(3, 4)\n",
      "[[   0    1    2    3]\n",
      " [1234    5    6    7]\n",
      " [   8    9   10   11]]\n",
      "4432582176\n",
      "4432583296\n"
     ]
    }
   ],
   "source": [
    "# 浅复制\n",
    "c = a.view()\n",
    "print(c is a)\n",
    "c.shape = 2,6\n",
    "print(a.shape)\n",
    "c[0,4] = 1234\n",
    "print(a)\n",
    "print(id(a))\n",
    "print(id(c))"
   ]
  },
  {
   "cell_type": "code",
   "execution_count": 32,
   "metadata": {},
   "outputs": [
    {
     "name": "stdout",
     "output_type": "stream",
     "text": [
      "False\n",
      "[[   0    1    2    3]\n",
      " [1234    5    6    7]\n",
      " [   8    9   10   11]]\n",
      "[[9999    1    2    3]\n",
      " [1234    5    6    7]\n",
      " [   8    9   10   11]]\n"
     ]
    }
   ],
   "source": [
    "# 深复制\n",
    "d = a.copy()\n",
    "print(d is a )\n",
    "d[0,0] = 9999\n",
    "print(a)\n",
    "print(d)\n",
    "print(id(a))\n",
    "print(id(c))"
   ]
  },
  {
   "cell_type": "code",
   "execution_count": null,
   "metadata": {},
   "outputs": [],
   "source": []
  }
 ],
 "metadata": {
  "kernelspec": {
   "display_name": "Python 3",
   "language": "python",
   "name": "python3"
  },
  "language_info": {
   "codemirror_mode": {
    "name": "ipython",
    "version": 3
   },
   "file_extension": ".py",
   "mimetype": "text/x-python",
   "name": "python",
   "nbconvert_exporter": "python",
   "pygments_lexer": "ipython3",
   "version": "3.6.5"
  }
 },
 "nbformat": 4,
 "nbformat_minor": 2
}
